{
 "cells": [
  {
   "cell_type": "code",
   "execution_count": 1,
   "metadata": {},
   "outputs": [],
   "source": [
    "import numpy as np \n",
    "import pandas as pd \n",
    "from math import *\n",
    "import matplotlib.pyplot as plt"
   ]
  },
  {
   "cell_type": "code",
   "execution_count": 10,
   "metadata": {},
   "outputs": [
    {
     "name": "stdout",
     "output_type": "stream",
     "text": [
      "(11, 42)\n"
     ]
    }
   ],
   "source": [
    "CFL = 1.0  \n",
    "pre_matrix = []\n",
    "p_row0 = []\n",
    "p_row0.append(1)\n",
    "for i in range(41):\n",
    "    p_row0.append(0)\n",
    "pre_matrix.append(p_row0)\n",
    "for i in range(1, 42):\n",
    "    p_row = []\n",
    "    for j in range(42):\n",
    "        if j == i-1:\n",
    "            p_row.append(-CFL)\n",
    "        elif j == i:\n",
    "            p_row.append(1.0)\n",
    "        elif j == i+1:\n",
    "            p_row.append(CFL)\n",
    "        else:\n",
    "            p_row.append(0)\n",
    "    pre_matrix.append(p_row)\n",
    "#print(pre_matrix)\n",
    "p_matrix = np.asarray(pre_matrix)\n",
    "#print(p_matrix)\n",
    "\n",
    "matrix = np.linalg.inv(p_matrix)\n",
    "\n",
    "u_0 = np.zeros((42))  # u_i is u vector at time i \n",
    "for i in range(42):\n",
    "    if i*2/42 <= 0.5:\n",
    "        u_0[i] = 1\n",
    "    else:\n",
    "        u_0[i] = 2\n",
    "#print(u_0)\n",
    "\n",
    "U = []\n",
    "U.append(u_0)\n",
    "for i in range(1, 11):\n",
    "    j = i-1\n",
    "    u_i = np.dot(matrix, U[j])\n",
    "    U.append(u_i)\n",
    "\n",
    "final_U = np.asarray(U)\n",
    "print(final_U.shape)"
   ]
  },
  {
   "cell_type": "code",
   "execution_count": 17,
   "metadata": {},
   "outputs": [
    {
     "data": {
      "text/plain": [
       "[<matplotlib.lines.Line2D at 0x7f37f17ddd00>]"
      ]
     },
     "execution_count": 17,
     "metadata": {},
     "output_type": "execute_result"
    },
    {
     "data": {
      "image/png": "[encoded data removed]",
      "text/plain": [
       "<Figure size 576x576 with 1 Axes>"
      ]
     },
     "metadata": {
      "needs_background": "light"
     },
     "output_type": "display_data"
    }
   ],
   "source": [
    "delta_x = 2/42\n",
    "delta_t = 2*delta_x     #    2 = C*delta_t/delta_x   where C = 1  \n",
    "norm_vect = []\n",
    "#norm_vect.append(0)\n",
    "\n",
    "for i in range(1, 11):\n",
    "    analytic = []\n",
    "    for j in range(42):\n",
    "        u_temp = u_0[j]*exp(j*delta_x - i*delta_t)\n",
    "        analytic.append(u_temp)\n",
    "    nume = []\n",
    "    nume = final_U[i]\n",
    "    norm = np.linalg.norm((nume - analytic))\n",
    "    norm_vect.append(norm)\n",
    "\n",
    "t = [i for i in range(10)]    \n",
    "plt.subplots(figsize = (8,8))\n",
    "plt.xlabel(\"time step\")\n",
    "plt.ylabel(\"L1 norm\")\n",
    "plt.plot(t, norm_vect, 'go-')"
   ]
  }
 ],
 "metadata": {
  "kernelspec": {
   "display_name": "Python 3",
   "language": "python",
   "name": "python3"
  },
  "language_info": {
   "codemirror_mode": {
    "name": "ipython",
    "version": 3
   },
   "file_extension": ".py",
   "mimetype": "text/x-python",
   "name": "python",
   "nbconvert_exporter": "python",
   "pygments_lexer": "ipython3",
   "version": "3.8.6"
  }
 },
 "nbformat": 4,
 "nbformat_minor": 4
}
